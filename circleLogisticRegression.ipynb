{
 "cells": [
  {
   "cell_type": "code",
   "execution_count": 149,
   "metadata": {},
   "outputs": [],
   "source": [
    "import numpy as np\n",
    "import matplotlib.pyplot as plt"
   ]
  },
  {
   "cell_type": "code",
   "execution_count": 150,
   "metadata": {},
   "outputs": [
    {
     "name": "stdout",
     "output_type": "stream",
     "text": [
      "(18,)\n"
     ]
    },
    {
     "data": {
      "text/plain": [
       "[<matplotlib.lines.Line2D at 0x111b6bf10>]"
      ]
     },
     "execution_count": 150,
     "metadata": {},
     "output_type": "execute_result"
    },
    {
     "data": {
      "image/png": "[encoded data removed]",
      "text/plain": [
       "<Figure size 432x288 with 1 Axes>"
      ]
     },
     "metadata": {
      "needs_background": "light"
     },
     "output_type": "display_data"
    }
   ],
   "source": [
    "x = np.array([[0,     0    ],\n",
    "              [-0.5,  0.1  ],\n",
    "              [0.9,   -0.3 ],\n",
    "              [0.1,   -0.8 ],\n",
    "              [0.3,   0.6  ],\n",
    "              [0.7,   -0.4 ],\n",
    "              [-0.2,  0.2  ],\n",
    "              [0.2,  -0.3  ],\n",
    "              [-0.2, -0.4  ],\n",
    "              [-0.9, 0     ],  # 0, 10\n",
    "              [2,    0     ],\n",
    "              [-2,   0     ],\n",
    "              [0,    2     ],\n",
    "              [0,    -2    ],\n",
    "              [1,    1.4   ],\n",
    "              [1,    -1.4  ],\n",
    "              [-1,   1.4   ],\n",
    "              [-1,   -1.4  ]])\n",
    "y = np.array([0, 0, 0, 0, 0, 0, 0, 0, 0, 0, 1, 1, 1, 1, 1, 1, 1, 1])\n",
    "print(y.shape)\n",
    "for i, e in enumerate(x):\n",
    "    if y[i] == 0:\n",
    "        plt.scatter(e[0], e[1], color = \"blue\")\n",
    "    else:\n",
    "        plt.scatter(e[0], e[1], color = \"red\")\n",
    "plt.plot(np.linspace(0, 0, 9), np.linspace(-3, 3, 9), color = \"black\")\n",
    "plt.plot(np.linspace(-3, 3, 9), np.linspace(0, 0, 9), color = \"black\")"
   ]
  },
  {
   "cell_type": "code",
   "execution_count": 151,
   "metadata": {},
   "outputs": [],
   "source": [
    "def sigmoid(z):\n",
    "    return 1 / (1 + np.exp(-z))"
   ]
  },
  {
   "cell_type": "code",
   "execution_count": 110,
   "metadata": {},
   "outputs": [],
   "source": [
    "t0, t1, t2, t3, t4 = 0.5, 0.5, 0.5, 0.5, 0.5"
   ]
  },
  {
   "cell_type": "code",
   "execution_count": 152,
   "metadata": {},
   "outputs": [],
   "source": [
    "def circleLogisticRegression(x, y, learningRate = 0.01, iterations = 1):\n",
    "    global t0, t1, t2, t3, t4\n",
    "    x1, x2, x3, x4 = x[:,0], x[:,1], x[:,0] ** 2, x[:,1]  ** 2\n",
    "    m = len(x)\n",
    "    costs = []\n",
    "    for i in range(1, iterations + 1):\n",
    "        z = t0 + t1 * x1 + t2 * x2 + t3 * x3 + t4 * x4\n",
    "        h = sigmoid(z)\n",
    "        cost = (-1 / m) * sum(y * np.log(h) + (1 - y) * np.log(1 - h))\n",
    "        dcost_dt0 = (1 / m) * sum(h - y)\n",
    "        dcost_dt1 = (1 / m) * sum((h - y) * x1)\n",
    "        dcost_dt2 = (1 / m) * sum((h - y) * x2)\n",
    "        dcost_dt3 = (1 / m) * sum((h - y) * x3)\n",
    "        dcost_dt4 = (1 / m) * sum((h - y) * x4)\n",
    "        t0 = t0 - learningRate * dcost_dt0\n",
    "        t1 = t1 - learningRate * dcost_dt1\n",
    "        t2 = t2 - learningRate * dcost_dt2\n",
    "        t3 = t3 - learningRate * dcost_dt3\n",
    "        t4 = t4 - learningRate * dcost_dt4\n",
    "        if (i % (iterations // 10)) == 0 or i == 1 or i == iterations:\n",
    "            print(cost)\n",
    "            costs.append(cost)\n",
    "    plt.plot(costs)\n",
    "    return t0, t1, t2, t3, t4"
   ]
  },
  {
   "cell_type": "code",
   "execution_count": 153,
   "metadata": {},
   "outputs": [],
   "source": [
    "def predict(x):\n",
    "    x1, x2, x3, x4 = x[0], x[1], x[0] ** 2, x[1]  ** 2\n",
    "    h = sigmoid(t0 + t1 * x1 + t2 * x2 + t3 * x3 + t4 * x4)\n",
    "    if h >= 0.5:\n",
    "        return 1\n",
    "    else: \n",
    "        return 0"
   ]
  },
  {
   "cell_type": "code",
   "execution_count": 160,
   "metadata": {},
   "outputs": [
    {
     "data": {
      "image/png": "[encoded data removed]",
      "text/plain": [
       "<Figure size 432x288 with 1 Axes>"
      ]
     },
     "metadata": {
      "needs_background": "light"
     },
     "output_type": "display_data"
    }
   ],
   "source": [
    "for i, e in enumerate(x):\n",
    "    if y[i] >= 0.5:\n",
    "        plt.scatter(e[0], e[1], color = \"red\")\n",
    "    else:\n",
    "        plt.scatter(e[0], e[1], color = \"blue\")"
   ]
  },
  {
   "cell_type": "code",
   "execution_count": 168,
   "metadata": {},
   "outputs": [
    {
     "data": {
      "image/png": "[encoded data removed]",
      "text/plain": [
       "<Figure size 432x288 with 1 Axes>"
      ]
     },
     "metadata": {
      "needs_background": "light"
     },
     "output_type": "display_data"
    }
   ],
   "source": [
    "for i in np.linspace(-5, 5, 30):\n",
    "    for j in np.linspace(-5, 5, 30):\n",
    "        if (1 / (1 + (np.exp(-(t0 + t1 * i + t2 * j + t3 * i ** 2 + t4 * j ** 2))))) == 1:\n",
    "            plt.scatter(i, j, color = \"red\")\n",
    "        else:\n",
    "            plt.scatter(i, j, color = \"blue\")"
   ]
  },
  {
   "cell_type": "code",
   "execution_count": 136,
   "metadata": {},
   "outputs": [
    {
     "name": "stdout",
     "output_type": "stream",
     "text": [
      "2.5174500470347212e-05\n",
      "2.5009916126019905e-05\n",
      "2.4847317927165305e-05\n",
      "2.468682974843137e-05\n",
      "2.4528410710325768e-05\n",
      "2.437202098349772e-05\n",
      "2.4217621755394368e-05\n",
      "2.4065175197824168e-05\n",
      "2.3914644436087113e-05\n",
      "2.376599351899342e-05\n",
      "2.361918739014067e-05\n"
     ]
    },
    {
     "data": {
      "text/plain": [
       "(-15.192921534083208,\n",
       " -0.2395990390420154,\n",
       " 0.6010109961599129,\n",
       " 6.616997839819955,\n",
       " 9.970349024609382)"
      ]
     },
     "execution_count": 136,
     "metadata": {},
     "output_type": "execute_result"
    },
    {
     "data": {
      "image/png": "[encoded data removed]",
      "text/plain": [
       "<Figure size 432x288 with 1 Axes>"
      ]
     },
     "metadata": {
      "needs_background": "light"
     },
     "output_type": "display_data"
    }
   ],
   "source": [
    "circleLogisticRegression(x, y, 1, 10000)"
   ]
  }
 ],
 "metadata": {
  "kernelspec": {
   "display_name": "Python 3",
   "language": "python",
   "name": "python3"
  },
  "language_info": {
   "codemirror_mode": {
    "name": "ipython",
    "version": 3
   },
   "file_extension": ".py",
   "mimetype": "text/x-python",
   "name": "python",
   "nbconvert_exporter": "python",
   "pygments_lexer": "ipython3",
   "version": "3.9.1"
  }
 },
 "nbformat": 4,
 "nbformat_minor": 2
}
